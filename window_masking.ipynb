{
 "cells": [
  {
   "cell_type": "code",
   "execution_count": null,
   "metadata": {},
   "outputs": [],
   "source": [
    "import pandas as pd\n",
    "\n",
    "data = pd.read_csv('test_window_sequences.csv')"
   ]
  },
  {
   "cell_type": "code",
   "execution_count": null,
   "metadata": {},
   "outputs": [],
   "source": [
    "def change_mask(row):\n",
    "    last_one_index = -1\n",
    "    \n",
    "    for i in range(len(row)-1, -1, -1):\n",
    "        if row[i] == '1':\n",
    "            last_one_index = i\n",
    "            break\n",
    "    \n",
    "    if last_one_index != -1:\n",
    "        row = ['-1'] * len(row)\n",
    "        row[last_one_index] = '1'\n",
    "\n",
    "    return row\n",
    "\n",
    "\n",
    "data['selectmasks'] = data['selectmasks'].apply(lambda x: x.split(','))\n",
    "data['selectmasks'] = data['selectmasks'].apply(lambda x: change_mask(x))\n",
    "data['selectmasks'] = data['selectmasks'].apply(lambda x: ','.join(x))\n",
    "\n",
    "\n",
    "data.to_csv('test_window_sequences_m.csv')"
   ]
  }
 ],
 "metadata": {
  "kernelspec": {
   "display_name": ".research",
   "language": "python",
   "name": "python3"
  },
  "language_info": {
   "codemirror_mode": {
    "name": "ipython",
    "version": 3
   },
   "file_extension": ".py",
   "mimetype": "text/x-python",
   "name": "python",
   "nbconvert_exporter": "python",
   "pygments_lexer": "ipython3",
   "version": "3.11.7"
  }
 },
 "nbformat": 4,
 "nbformat_minor": 2
}
