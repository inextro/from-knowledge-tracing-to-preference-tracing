{
 "cells": [
  {
   "cell_type": "code",
   "execution_count": 1,
   "metadata": {},
   "outputs": [],
   "source": [
    "import pandas as pd\n",
    "\n",
    "movies = pd.read_csv('./data/ml-1m/movies.dat', delimiter='::', engine='python', encoding='ISO-8859-1', names=['movieId', 'title', 'gneres'])\n",
    "ratings = pd.read_csv('./data/ml-1m/ratings.dat', delimiter='::', engine='python', encoding='ISO-8859-1', names=['userId', 'movieId', 'rating', 'timestamp'])\n",
    "\n",
    "movie_wiki = pd.read_csv('./data/crawled_data/movie_wiki.csv')\n",
    "movie_imdb = pd.read_csv('./data/crawled_data/movie_imdb.csv')\n",
    "movie_lbox = pd.read_csv('./data/crawled_data/movie_lbox.csv')"
   ]
  },
  {
   "cell_type": "code",
   "execution_count": 2,
   "metadata": {},
   "outputs": [
    {
     "name": "stdout",
     "output_type": "stream",
     "text": [
      "총 영화 개수는 3883개\n",
      "총 사용자 수는 6040명\n",
      "총 평점 개수는 1000209개\n",
      "평점이 부여된 영화 개수는 3706개\n"
     ]
    }
   ],
   "source": [
    "print(f'총 영화 개수는 {movies.shape[0]}개')\n",
    "print(f'총 사용자 수는 {ratings[\"userId\"].nunique()}명')\n",
    "print(f'총 평점 개수는 {ratings.shape[0]}개')\n",
    "print(f'평점이 부여된 영화 개수는 {ratings[\"movieId\"].nunique()}개')"
   ]
  },
  {
   "cell_type": "code",
   "execution_count": 3,
   "metadata": {},
   "outputs": [
    {
     "data": {
      "text/plain": [
       "array([5, 3, 4, 2, 1], dtype=int64)"
      ]
     },
     "execution_count": 3,
     "metadata": {},
     "output_type": "execute_result"
    }
   ],
   "source": [
    "# 평점은 5점 만점이며 1점 단위로 부여 가능\n",
    "ratings['rating'].unique()"
   ]
  },
  {
   "cell_type": "code",
   "execution_count": 4,
   "metadata": {},
   "outputs": [
    {
     "name": "stdout",
     "output_type": "stream",
     "text": [
      "전체 평점 중에서 4점과 5점의 비중은 0.5752\n"
     ]
    }
   ],
   "source": [
    "high_ratings = ratings['rating'].value_counts().get(4) + ratings['rating'].value_counts().get(5)\n",
    "\n",
    "print(f'전체 평점 중에서 4점과 5점의 비중은 {round(high_ratings / ratings.shape[0], 4)}')"
   ]
  },
  {
   "cell_type": "code",
   "execution_count": 5,
   "metadata": {},
   "outputs": [],
   "source": [
    "# 4점 이상의 평점은 1, 4점 미만의 평점은 0으로 변환\n",
    "ratings['rating'] = ratings['rating'].apply(lambda x: 1 if x >= 4 else 0)\n",
    "\n",
    "# userID -> timestamp 순으로 정렬\n",
    "ratings = ratings.sort_values(by=['userId', 'timestamp']).reset_index(drop=True)"
   ]
  },
  {
   "cell_type": "code",
   "execution_count": 6,
   "metadata": {},
   "outputs": [
    {
     "name": "stdout",
     "output_type": "stream",
     "text": [
      "위키피디아에서 줄거리가 수집된 영화 개수는 3421개\n",
      "위키피디아에서 줄거리가 수집되지 않은 영화 개수는 462개\n"
     ]
    }
   ],
   "source": [
    "# 위키피디아; 위키피디아만 plots에 결측치가 존재함\n",
    "plots_wiki = movie_wiki[movie_wiki['plots'] != 'no plots']\n",
    "plots_wiki = plots_wiki.dropna(subset=['plots'])\n",
    "\n",
    "no_plots_wiki = movie_wiki[(movie_wiki['plots'].isna()) | (movie_wiki['plots'] == 'no plots')]\n",
    "\n",
    "print(f'위키피디아에서 줄거리가 수집된 영화 개수는 {plots_wiki.shape[0]}개')\n",
    "print(f'위키피디아에서 줄거리가 수집되지 않은 영화 개수는 {no_plots_wiki.shape[0]}개')"
   ]
  },
  {
   "cell_type": "code",
   "execution_count": 7,
   "metadata": {},
   "outputs": [
    {
     "name": "stdout",
     "output_type": "stream",
     "text": [
      "imdb에서 줄거리가 수집된 영화의 개수는 71개\n",
      "위키피디아와 imdb에서 줄거리가 수집되지 못한 영화의 개수는 391개\n"
     ]
    }
   ],
   "source": [
    "# 위키피디아에서 줄거리가 수집되지 않은 영화는 imdb에서 크롤링한 것으로 대체\n",
    "temp = pd.merge(left=no_plots_wiki.loc[:, ['movieId', 'title', 'genres']], \n",
    "                right=movie_imdb.loc[:, ['movieId', 'plots']], \n",
    "                how='inner', \n",
    "                on='movieId')\n",
    "\n",
    "plots_temp = temp[(temp['plots'] != 'no result') & (temp['plots'] != 'no synopsis')]\n",
    "no_plots_temp = temp[(temp['plots'] == 'no result') | (temp['plots'] == 'no synopsis')]\n",
    "\n",
    "print(f'imdb에서 줄거리가 수집된 영화의 개수는 {plots_temp.shape[0]}개')\n",
    "print(f'위키피디아와 imdb에서 줄거리가 수집되지 못한 영화의 개수는 {no_plots_temp.shape[0]}개')"
   ]
  },
  {
   "cell_type": "code",
   "execution_count": 8,
   "metadata": {},
   "outputs": [
    {
     "name": "stdout",
     "output_type": "stream",
     "text": [
      "lbox에서 줄거리가 수집된 영화의 개수는 285개\n",
      "모든 플랫폼에서 줄거리가 수집되지 못한 영화의 개수는 106개\n"
     ]
    }
   ],
   "source": [
    "# 위키피디아와 imdb에서 줄거리가 수집되지 않은 영화는 lbox에서 크롤링한 것으로 대체\n",
    "temp2 = pd.merge(left=no_plots_temp.loc[:, ['movieId', 'title', 'genres']], \n",
    "                 right=movie_lbox.loc[:, ['movieId', 'plots']], \n",
    "                 how='inner', \n",
    "                 on='movieId')\n",
    "\n",
    "plots_temp2 = temp2[(temp2['plots'] != 'no results') & (temp2['plots'] != 'no synopsis')]\n",
    "no_plots_temp2 = temp2[(temp2['plots'] == 'no results') | (temp2['plots'] == 'no synopsis')]\n",
    "\n",
    "print(f'lbox에서 줄거리가 수집된 영화의 개수는 {plots_temp2.shape[0]}개')\n",
    "print(f'모든 플랫폼에서 줄거리가 수집되지 못한 영화의 개수는 {no_plots_temp2.shape[0]}개')"
   ]
  },
  {
   "cell_type": "code",
   "execution_count": 9,
   "metadata": {},
   "outputs": [],
   "source": [
    "final_df = pd.concat(objs=[plots_wiki, plots_temp, plots_temp2], axis=0)\n",
    "final_df = final_df.reset_index(drop=True)\n",
    "\n",
    "final_df.to_csv('./data/crawled_data/plots_crawled.csv', index=False)"
   ]
  },
  {
   "cell_type": "code",
   "execution_count": 10,
   "metadata": {},
   "outputs": [
    {
     "name": "stdout",
     "output_type": "stream",
     "text": [
      "최종적으로 분석에 사용될 평점 히스토리의 개수: 997772개\n",
      "최종적으로 분석에 사용될 영화의 개수: 3777개\n"
     ]
    }
   ],
   "source": [
    "missing_id = no_plots_temp2['movieId']\n",
    "\n",
    "ratings = ratings[~ratings['movieId'].isin(missing_id)]\n",
    "ratings = ratings.reset_index(drop=True)\n",
    "ratings.to_csv('./data/ml-1m/ratings.csv', index=False)\n",
    "\n",
    "movies = movies[~movies['movieId'].isin(missing_id)]\n",
    "movies = movies.reset_index(drop=True)\n",
    "\n",
    "print(f'최종적으로 분석에 사용될 평점 히스토리의 개수: {ratings.shape[0]}개')\n",
    "print(f'최종적으로 분석에 사용될 영화의 개수: {movies.shape[0]}개')"
   ]
  }
 ],
 "metadata": {
  "kernelspec": {
   "display_name": ".research",
   "language": "python",
   "name": "python3"
  },
  "language_info": {
   "codemirror_mode": {
    "name": "ipython",
    "version": 3
   },
   "file_extension": ".py",
   "mimetype": "text/x-python",
   "name": "python",
   "nbconvert_exporter": "python",
   "pygments_lexer": "ipython3",
   "version": "3.11.7"
  }
 },
 "nbformat": 4,
 "nbformat_minor": 2
}
